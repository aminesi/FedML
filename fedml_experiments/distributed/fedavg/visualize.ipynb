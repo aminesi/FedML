{
 "cells": [
  {
   "cell_type": "code",
   "execution_count": 1,
   "metadata": {
    "collapsed": true
   },
   "outputs": [
    {
     "ename": "KeyboardInterrupt",
     "evalue": "",
     "output_type": "error",
     "traceback": [
      "\u001B[0;31m---------------------------------------------------------------------------\u001B[0m",
      "\u001B[0;31mKeyboardInterrupt\u001B[0m                         Traceback (most recent call last)",
      "Input \u001B[0;32mIn [1]\u001B[0m, in \u001B[0;36m<module>\u001B[0;34m\u001B[0m\n\u001B[1;32m     38\u001B[0m \u001B[38;5;28;01mfor\u001B[39;00m file \u001B[38;5;129;01min\u001B[39;00m os\u001B[38;5;241m.\u001B[39mlistdir(\u001B[38;5;124m'\u001B[39m\u001B[38;5;124mresults/\u001B[39m\u001B[38;5;124m'\u001B[39m \u001B[38;5;241m+\u001B[39m \u001B[38;5;28mdir\u001B[39m):\n\u001B[1;32m     39\u001B[0m     \u001B[38;5;28;01mif\u001B[39;00m file\u001B[38;5;241m.\u001B[39mstartswith(\u001B[38;5;124m'\u001B[39m\u001B[38;5;124mrun.sh\u001B[39m\u001B[38;5;124m'\u001B[39m):\n\u001B[0;32m---> 40\u001B[0m         avg_failed, unique_participants, rounds_failed \u001B[38;5;241m=\u001B[39m \u001B[43mextract_file_data\u001B[49m\u001B[43m(\u001B[49m\u001B[38;5;124;43m'\u001B[39;49m\u001B[38;5;124;43mresults/\u001B[39;49m\u001B[38;5;124;43m'\u001B[39;49m\u001B[43m \u001B[49m\u001B[38;5;241;43m+\u001B[39;49m\u001B[43m \u001B[49m\u001B[38;5;28;43mdir\u001B[39;49m\u001B[43m \u001B[49m\u001B[38;5;241;43m+\u001B[39;49m\u001B[43m \u001B[49m\u001B[38;5;124;43m'\u001B[39;49m\u001B[38;5;124;43m/\u001B[39;49m\u001B[38;5;124;43m'\u001B[39;49m\u001B[43m \u001B[49m\u001B[38;5;241;43m+\u001B[39;49m\u001B[43m \u001B[49m\u001B[43mfile\u001B[49m\u001B[43m)\u001B[49m\n\u001B[1;32m     42\u001B[0m plt\u001B[38;5;241m.\u001B[39mplot(\u001B[38;5;28mrange\u001B[39m(\u001B[38;5;28mlen\u001B[39m(accuracies)), accuracies, label\u001B[38;5;241m=\u001B[39mconfig)\n\u001B[1;32m     43\u001B[0m times \u001B[38;5;241m=\u001B[39m np\u001B[38;5;241m.\u001B[39mload(\u001B[38;5;124m'\u001B[39m\u001B[38;5;124mresults/\u001B[39m\u001B[38;5;124m'\u001B[39m \u001B[38;5;241m+\u001B[39m \u001B[38;5;28mdir\u001B[39m \u001B[38;5;241m+\u001B[39m \u001B[38;5;124m'\u001B[39m\u001B[38;5;124m/times.npy\u001B[39m\u001B[38;5;124m'\u001B[39m)\n",
      "Input \u001B[0;32mIn [1]\u001B[0m, in \u001B[0;36mextract_file_data\u001B[0;34m(file)\u001B[0m\n\u001B[1;32m     22\u001B[0m raw \u001B[38;5;241m=\u001B[39m file\u001B[38;5;241m.\u001B[39mread()\n\u001B[1;32m     23\u001B[0m failed \u001B[38;5;241m=\u001B[39m re\u001B[38;5;241m.\u001B[39mcompile(\u001B[38;5;124m'\u001B[39m\u001B[38;5;124mRound \u001B[39m\u001B[38;5;124m\\\u001B[39m\u001B[38;5;124md+ failed clients: (\u001B[39m\u001B[38;5;124m\\\u001B[39m\u001B[38;5;124m[[^]]*])\u001B[39m\u001B[38;5;124m'\u001B[39m)\u001B[38;5;241m.\u001B[39mfindall(raw)\n\u001B[0;32m---> 24\u001B[0m failed \u001B[38;5;241m=\u001B[39m \u001B[38;5;28;43mlist\u001B[39;49m(\u001B[38;5;28mmap\u001B[39m(\u001B[38;5;28mlen\u001B[39m ,\u001B[38;5;28mmap\u001B[39m(ast\u001B[38;5;241m.\u001B[39mliteral_eval, failed)))\n\u001B[1;32m     25\u001B[0m avg_failed \u001B[38;5;241m=\u001B[39m np\u001B[38;5;241m.\u001B[39mmean(failed)\n\u001B[1;32m     26\u001B[0m rounds_failed \u001B[38;5;241m=\u001B[39m \u001B[38;5;28mlen\u001B[39m(\u001B[38;5;28mlist\u001B[39m(\u001B[38;5;28mfilter\u001B[39m(\u001B[38;5;28;01mlambda\u001B[39;00m x: x \u001B[38;5;241m>\u001B[39m \u001B[38;5;241m0\u001B[39m, failed)))\n",
      "Input \u001B[0;32mIn [1]\u001B[0m, in \u001B[0;36mextract_file_data\u001B[0;34m(file)\u001B[0m\n\u001B[1;32m     22\u001B[0m raw \u001B[38;5;241m=\u001B[39m file\u001B[38;5;241m.\u001B[39mread()\n\u001B[1;32m     23\u001B[0m failed \u001B[38;5;241m=\u001B[39m re\u001B[38;5;241m.\u001B[39mcompile(\u001B[38;5;124m'\u001B[39m\u001B[38;5;124mRound \u001B[39m\u001B[38;5;124m\\\u001B[39m\u001B[38;5;124md+ failed clients: (\u001B[39m\u001B[38;5;124m\\\u001B[39m\u001B[38;5;124m[[^]]*])\u001B[39m\u001B[38;5;124m'\u001B[39m)\u001B[38;5;241m.\u001B[39mfindall(raw)\n\u001B[0;32m---> 24\u001B[0m failed \u001B[38;5;241m=\u001B[39m \u001B[38;5;28;43mlist\u001B[39;49m(\u001B[38;5;28mmap\u001B[39m(\u001B[38;5;28mlen\u001B[39m ,\u001B[38;5;28mmap\u001B[39m(ast\u001B[38;5;241m.\u001B[39mliteral_eval, failed)))\n\u001B[1;32m     25\u001B[0m avg_failed \u001B[38;5;241m=\u001B[39m np\u001B[38;5;241m.\u001B[39mmean(failed)\n\u001B[1;32m     26\u001B[0m rounds_failed \u001B[38;5;241m=\u001B[39m \u001B[38;5;28mlen\u001B[39m(\u001B[38;5;28mlist\u001B[39m(\u001B[38;5;28mfilter\u001B[39m(\u001B[38;5;28;01mlambda\u001B[39;00m x: x \u001B[38;5;241m>\u001B[39m \u001B[38;5;241m0\u001B[39m, failed)))\n",
      "File \u001B[0;32m~/pycharm-2021.2.3/plugins/python/helpers/pydev/_pydevd_bundle/pydevd_frame.py:747\u001B[0m, in \u001B[0;36mPyDBFrame.trace_dispatch\u001B[0;34m(self, frame, event, arg)\u001B[0m\n\u001B[1;32m    745\u001B[0m \u001B[38;5;66;03m# if thread has a suspend flag, we suspend with a busy wait\u001B[39;00m\n\u001B[1;32m    746\u001B[0m \u001B[38;5;28;01mif\u001B[39;00m info\u001B[38;5;241m.\u001B[39mpydev_state \u001B[38;5;241m==\u001B[39m STATE_SUSPEND:\n\u001B[0;32m--> 747\u001B[0m     \u001B[38;5;28;43mself\u001B[39;49m\u001B[38;5;241;43m.\u001B[39;49m\u001B[43mdo_wait_suspend\u001B[49m\u001B[43m(\u001B[49m\u001B[43mthread\u001B[49m\u001B[43m,\u001B[49m\u001B[43m \u001B[49m\u001B[43mframe\u001B[49m\u001B[43m,\u001B[49m\u001B[43m \u001B[49m\u001B[43mevent\u001B[49m\u001B[43m,\u001B[49m\u001B[43m \u001B[49m\u001B[43marg\u001B[49m\u001B[43m)\u001B[49m\n\u001B[1;32m    748\u001B[0m     \u001B[38;5;66;03m# No need to reset frame.f_trace to keep the same trace function.\u001B[39;00m\n\u001B[1;32m    749\u001B[0m     \u001B[38;5;28;01mreturn\u001B[39;00m \u001B[38;5;28mself\u001B[39m\u001B[38;5;241m.\u001B[39mtrace_dispatch\n",
      "File \u001B[0;32m~/pycharm-2021.2.3/plugins/python/helpers/pydev/_pydevd_bundle/pydevd_frame.py:144\u001B[0m, in \u001B[0;36mPyDBFrame.do_wait_suspend\u001B[0;34m(self, *args, **kwargs)\u001B[0m\n\u001B[1;32m    143\u001B[0m \u001B[38;5;28;01mdef\u001B[39;00m \u001B[38;5;21mdo_wait_suspend\u001B[39m(\u001B[38;5;28mself\u001B[39m, \u001B[38;5;241m*\u001B[39margs, \u001B[38;5;241m*\u001B[39m\u001B[38;5;241m*\u001B[39mkwargs):\n\u001B[0;32m--> 144\u001B[0m     \u001B[38;5;28;43mself\u001B[39;49m\u001B[38;5;241;43m.\u001B[39;49m\u001B[43m_args\u001B[49m\u001B[43m[\u001B[49m\u001B[38;5;241;43m0\u001B[39;49m\u001B[43m]\u001B[49m\u001B[38;5;241;43m.\u001B[39;49m\u001B[43mdo_wait_suspend\u001B[49m\u001B[43m(\u001B[49m\u001B[38;5;241;43m*\u001B[39;49m\u001B[43margs\u001B[49m\u001B[43m,\u001B[49m\u001B[43m \u001B[49m\u001B[38;5;241;43m*\u001B[39;49m\u001B[38;5;241;43m*\u001B[39;49m\u001B[43mkwargs\u001B[49m\u001B[43m)\u001B[49m\n",
      "File \u001B[0;32m~/pycharm-2021.2.3/plugins/python/helpers/pydev/pydevd.py:1147\u001B[0m, in \u001B[0;36mPyDB.do_wait_suspend\u001B[0;34m(self, thread, frame, event, arg, send_suspend_message, is_unhandled_exception)\u001B[0m\n\u001B[1;32m   1144\u001B[0m         from_this_thread\u001B[38;5;241m.\u001B[39mappend(frame_id)\n\u001B[1;32m   1146\u001B[0m \u001B[38;5;28;01mwith\u001B[39;00m \u001B[38;5;28mself\u001B[39m\u001B[38;5;241m.\u001B[39m_threads_suspended_single_notification\u001B[38;5;241m.\u001B[39mnotify_thread_suspended(thread_id, stop_reason):\n\u001B[0;32m-> 1147\u001B[0m     \u001B[38;5;28;43mself\u001B[39;49m\u001B[38;5;241;43m.\u001B[39;49m\u001B[43m_do_wait_suspend\u001B[49m\u001B[43m(\u001B[49m\u001B[43mthread\u001B[49m\u001B[43m,\u001B[49m\u001B[43m \u001B[49m\u001B[43mframe\u001B[49m\u001B[43m,\u001B[49m\u001B[43m \u001B[49m\u001B[43mevent\u001B[49m\u001B[43m,\u001B[49m\u001B[43m \u001B[49m\u001B[43marg\u001B[49m\u001B[43m,\u001B[49m\u001B[43m \u001B[49m\u001B[43msuspend_type\u001B[49m\u001B[43m,\u001B[49m\u001B[43m \u001B[49m\u001B[43mfrom_this_thread\u001B[49m\u001B[43m)\u001B[49m\n",
      "File \u001B[0;32m~/pycharm-2021.2.3/plugins/python/helpers/pydev/pydevd.py:1162\u001B[0m, in \u001B[0;36mPyDB._do_wait_suspend\u001B[0;34m(self, thread, frame, event, arg, suspend_type, from_this_thread)\u001B[0m\n\u001B[1;32m   1159\u001B[0m             \u001B[38;5;28mself\u001B[39m\u001B[38;5;241m.\u001B[39m_call_mpl_hook()\n\u001B[1;32m   1161\u001B[0m         \u001B[38;5;28mself\u001B[39m\u001B[38;5;241m.\u001B[39mprocess_internal_commands()\n\u001B[0;32m-> 1162\u001B[0m         \u001B[43mtime\u001B[49m\u001B[38;5;241;43m.\u001B[39;49m\u001B[43msleep\u001B[49m\u001B[43m(\u001B[49m\u001B[38;5;241;43m0.01\u001B[39;49m\u001B[43m)\u001B[49m\n\u001B[1;32m   1164\u001B[0m \u001B[38;5;28mself\u001B[39m\u001B[38;5;241m.\u001B[39mcancel_async_evaluation(get_current_thread_id(thread), \u001B[38;5;28mstr\u001B[39m(\u001B[38;5;28mid\u001B[39m(frame)))\n\u001B[1;32m   1166\u001B[0m \u001B[38;5;66;03m# process any stepping instructions\u001B[39;00m\n",
      "\u001B[0;31mKeyboardInterrupt\u001B[0m: "
     ]
    },
    {
     "data": {
      "text/plain": "<Figure size 1440x720 with 0 Axes>"
     },
     "metadata": {},
     "output_type": "display_data"
    }
   ],
   "source": [
    "import matplotlib.pyplot as plt\n",
    "import numpy as np\n",
    "import re\n",
    "import os\n",
    "import pandas as pd\n",
    "import ast\n",
    "\n",
    "plt.rcParams.update({\n",
    "    'font.size': 18,\n",
    "    'text.color': 'black',\n",
    "    'axes.labelcolor': 'white',\n",
    "    'xtick.color': 'white',\n",
    "    'ytick.color': 'white'\n",
    "})\n",
    "plt.figure(figsize=(20, 10))\n",
    "\n",
    "data = {}\n",
    "\n",
    "def extract_file_data(file):\n",
    "    with open(file) as file:\n",
    "        raw = file.read()\n",
    "        failed = re.compile('Round \\d+ failed clients: (\\[[^]]*])').findall(raw)\n",
    "        failed = list(map(len ,map(ast.literal_eval, failed)))\n",
    "        avg_failed = np.mean(failed)\n",
    "        rounds_failed = len(list(filter(lambda x: x > 0, failed)))\n",
    "        selected = re.compile('Sampled clients for round \\d+: (\\[[^]]*])').findall(raw)\n",
    "        selected = list(map(ast.literal_eval, selected))\n",
    "        unique_participants = len(set().union(*selected))\n",
    "        return avg_failed, unique_participants, rounds_failed\n",
    "\n",
    "for dir in os.listdir('results'):\n",
    "    config = ''\n",
    "    with open('results/' + dir + '/args.txt') as args:\n",
    "        args = args.read()\n",
    "        config = re.compile('trace_distro = (\\S+)').search(args).group(1)\n",
    "    accuracies = np.load('results/' + dir + '/accuracies.npy')\n",
    "    for file in os.listdir('results/' + dir):\n",
    "        if file.startswith('run.sh'):\n",
    "            avg_failed, unique_participants, rounds_failed = extract_file_data('results/' + dir + '/' + file)\n",
    "\n",
    "    plt.plot(range(len(accuracies)), accuracies, label=config)\n",
    "    times = np.load('results/' + dir + '/times.npy')\n",
    "    data[config] = {\n",
    "        'finish_time': times[-1],\n",
    "        'mean_acc': accuracies[1500:].mean(),\n",
    "        'std_acc': accuracies[1500:].std(),\n",
    "        'avg_failed': avg_failed,\n",
    "        'rounds_failed': rounds_failed,\n",
    "        'unique_participants': unique_participants\n",
    "    }\n",
    "\n",
    "\n",
    "\n",
    "\n",
    "plt.xlabel('Round number')\n",
    "plt.ylabel('Accuracy')\n",
    "plt.legend()\n",
    "plt.show()\n",
    "\n",
    "pd.DataFrame(data)"
   ]
  }
 ],
 "metadata": {
  "kernelspec": {
   "display_name": "Python 3",
   "language": "python",
   "name": "python3"
  },
  "language_info": {
   "codemirror_mode": {
    "name": "ipython",
    "version": 2
   },
   "file_extension": ".py",
   "mimetype": "text/x-python",
   "name": "python",
   "nbconvert_exporter": "python",
   "pygments_lexer": "ipython2",
   "version": "2.7.6"
  }
 },
 "nbformat": 4,
 "nbformat_minor": 0
}